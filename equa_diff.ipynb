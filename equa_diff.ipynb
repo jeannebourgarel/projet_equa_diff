{
 "cells": [
  {
   "cell_type": "markdown",
   "metadata": {},
   "source": [
    "# Projet numérique : choix du pas de temps"
   ]
  },
  {
   "cell_type": "code",
   "execution_count": 1,
   "metadata": {},
   "outputs": [],
   "source": [
    "import numpy as np\n",
    "import matplotlib.pyplot as plt"
   ]
  },
  {
   "cell_type": "markdown",
   "metadata": {},
   "source": [
    "## Pas fixe"
   ]
  },
  {
   "cell_type": "markdown",
   "metadata": {},
   "source": [
    "### Méthode d'Euler"
   ]
  },
  {
   "cell_type": "code",
   "execution_count": 2,
   "metadata": {},
   "outputs": [],
   "source": [
    "def solve_euler_explicit(f, x0, dt) :\n",
    "    t=[0]*40\n",
    "    x=[0]*40\n",
    "    x[0] =  x0\n",
    "    for j in range (39) :\n",
    "        t[j+1] = t[j]+dt\n",
    "        x[j+1] = x[j]+dt*f(t[j],x[j])#je choisis arbitrairement une durée de 1000dt, on pourrait aussi choisir une durée de n dt avec n en paramètre, l'énoncé ne précise pas\n",
    "    return t, x"
   ]
  },
  {
   "cell_type": "markdown",
   "metadata": {},
   "source": [
    "### Méthode de Heun"
   ]
  },
  {
   "cell_type": "markdown",
   "metadata": {},
   "source": [
    "C'est un schéma d'ordre 2"
   ]
  },
  {
   "cell_type": "code",
   "execution_count": 5,
   "metadata": {},
   "outputs": [],
   "source": [
    "def solve_heun(f, x0, dt) :\n",
    "    t=[0]*40\n",
    "    x=[0]*40\n",
    "    x[0] =  x0\n",
    "    for j in range (39) :\n",
    "        t[j+1] = t[j] + dt\n",
    "        x[j+1] = x[j] + (dt/2)*(f(t[j], x[j]) + f(t[j+1],x[j] + dt*f(t[j], x[j]))) #même remarque que précédemment à propos de la longueur de l'intervalle\n",
    "    return t, x"
   ]
  },
  {
   "cell_type": "markdown",
   "metadata": {},
   "source": [
    "Par exemple : $\\dot{x} = f(t, x)$ où $f(t, x) = -\\frac{x}{10}$ et $x_{0} = 1$"
   ]
  },
  {
   "cell_type": "code",
   "execution_count": 4,
   "metadata": {},
   "outputs": [],
   "source": [
    "def f(t, x) :\n",
    "    return -(1/10)*x"
   ]
  },
  {
   "cell_type": "markdown",
   "metadata": {},
   "source": [
    "Alors $x(t) = e^{-\\frac{t}{10}}$"
   ]
  },
  {
   "cell_type": "code",
   "execution_count": 6,
   "metadata": {},
   "outputs": [],
   "source": [
    "def f1(t, x0) :\n",
    "    return x0*np.exp(-0.1*t)"
   ]
  },
  {
   "cell_type": "code",
   "execution_count": 7,
   "metadata": {},
   "outputs": [],
   "source": [
    "T, X = solve_euler_explicit(f, 1, 1)\n",
    "T2, X2 = solve_heun(f, 1, 1)\n",
    "T1 = np.linspace(0, 39, 40)\n",
    "X1 = f1(T1, 1) #solution réelle"
   ]
  },
  {
   "cell_type": "code",
   "execution_count": 11,
   "metadata": {},
   "outputs": [
    {
     "data": {
      "text/plain": [
       "[<matplotlib.lines.Line2D at 0x22edf46b6a0>]"
      ]
     },
     "execution_count": 11,
     "metadata": {},
     "output_type": "execute_result"
    },
    {
     "data": {
      "image/png": "[encoded data removed]",
      "text/plain": [
       "<Figure size 432x288 with 1 Axes>"
      ]
     },
     "metadata": {
      "needs_background": "light"
     },
     "output_type": "display_data"
    }
   ],
   "source": [
    "plt.plot(T, X)\n",
    "plt.plot(T1, X1) #comparaison Euler-solution réelle"
   ]
  },
  {
   "cell_type": "code",
   "execution_count": 13,
   "metadata": {},
   "outputs": [
    {
     "data": {
      "text/plain": [
       "[<matplotlib.lines.Line2D at 0x22edf5394a8>]"
      ]
     },
     "execution_count": 13,
     "metadata": {},
     "output_type": "execute_result"
    },
    {
     "data": {
      "image/png": "[encoded data removed]",
      "text/plain": [
       "<Figure size 432x288 with 1 Axes>"
      ]
     },
     "metadata": {
      "needs_background": "light"
     },
     "output_type": "display_data"
    }
   ],
   "source": [
    "plt.plot(T1, X1)\n",
    "plt.plot(T2, X2) #comparaison Heun-solution réelle"
   ]
  },
  {
   "cell_type": "markdown",
   "metadata": {},
   "source": [
    "La méthode de Heun (ordre 2) permet d'obtenir un résultat plus proche de la solution réelle que celui obtenu avec le schéma d'Euler explicite (ordre 1)."
   ]
  },
  {
   "cell_type": "code",
   "execution_count": null,
   "metadata": {},
   "outputs": [],
   "source": []
  }
 ],
 "metadata": {
  "kernelspec": {
   "display_name": "Python 3",
   "language": "python",
   "name": "python3"
  },
  "language_info": {
   "codemirror_mode": {
    "name": "ipython",
    "version": 3
   },
   "file_extension": ".py",
   "mimetype": "text/x-python",
   "name": "python",
   "nbconvert_exporter": "python",
   "pygments_lexer": "ipython3",
   "version": "3.6.3"
  }
 },
 "nbformat": 4,
 "nbformat_minor": 2
}
